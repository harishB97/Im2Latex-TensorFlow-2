{
  "cells": [
    {
      "cell_type": "code",
      "execution_count": null,
      "metadata": {
        "colab": {
          "base_uri": "https://localhost:8080/"
        },
        "id": "vxwaaMw5qeYa",
        "outputId": "da2dc1e4-5e58-4666-ca99-982ced685451"
      },
      "outputs": [
        {
          "output_type": "stream",
          "name": "stdout",
          "text": [
            "2.8.2\n",
            "2.8.0\n",
            "1.21.6\n",
            "2.8.2\n",
            "2.8.0\n",
            "1.21.6\n"
          ]
        },
        {
          "output_type": "execute_result",
          "data": {
            "text/plain": [
              "True"
            ]
          },
          "metadata": {},
          "execution_count": 7
        }
      ],
      "source": [
        "import tensorflow as tf\n",
        "import tensorflow.keras as keras\n",
        "import numpy as np\n",
        "import os\n",
        "from datetime import datetime\n",
        "from im2latex import build_training_model\n",
        "from data_loader import get_dataset\n",
        "\n",
        "print(tf.__version__) # 2.8.0\n",
        "print(tf.keras.__version__) # 2.8.0\n",
        "print(np.__version__) # 1.21.6\n",
        "tf.executing_eagerly() # True\n"
      ]
    },
    {
      "cell_type": "markdown",
      "metadata": {
        "id": "q5Bc_dKKPB8k"
      },
      "source": [
        "# Load model"
      ]
    },
    {
      "cell_type": "code",
      "execution_count": null,
      "metadata": {
        "id": "U8PdbCzOOnYr"
      },
      "outputs": [],
      "source": [
        "saved_model = None\n",
        "# saved_model = r'./checkpoints/cp-0015.ckpt'\n",
        "im2latex_model = build_training_model(saved_model)"
      ]
    },
    {
      "cell_type": "markdown",
      "metadata": {
        "id": "dYOW-g-HPHNx"
      },
      "source": [
        "# Load data"
      ]
    },
    {
      "cell_type": "code",
      "execution_count": null,
      "metadata": {
        "id": "l8WP3S7gPK2C"
      },
      "outputs": [],
      "source": [
        "train_batch = 20\n",
        "max_seq_len = 150\n",
        "def filter_func(x, y):\n",
        "  return x[0][1].shape[-1] <= max_seq_len\n",
        "train_dataset = get_dataset(npy_path=r'./datasets/train_buckets.npy',\n",
        "                        image_path=r'./images',\n",
        "                        batch_size=train_batch,\n",
        "                        filter_predicate=filter_func)\n",
        "val_dataset = get_dataset(npy_path=r'./datasets/valid_buckets.npy',\n",
        "                        image_path=r'./images',\n",
        "                        batch_size=train_batch,\n",
        "                        filter_predicate=filter_func)"
      ]
    },
    {
      "cell_type": "markdown",
      "metadata": {
        "id": "9iChGQVD4Pdv"
      },
      "source": [
        "# Train model"
      ]
    },
    {
      "cell_type": "code",
      "execution_count": null,
      "metadata": {
        "id": "BpDA18xk4Pdw"
      },
      "outputs": [],
      "source": [
        "checkpoint_path = r\"./train_checkpoints/cp-{epoch:04d}.ckpt\"\n",
        "cp_callback = tf.keras.callbacks.ModelCheckpoint(filepath=checkpoint_path,\n",
        "                                                 save_weights_only=True, # True\n",
        "                                                 verbose=0,\n",
        "                                                 save_freq='epoch')                    \n",
        "\n",
        "tbcallback = tf.keras.callbacks.TensorBoard(\n",
        "    log_dir='./tb_logs', histogram_freq=0, write_graph=False,\n",
        "    write_images=True, update_freq=100, profile_batch=0,\n",
        "    embeddings_freq=0, embeddings_metadata=None)\n",
        "\n",
        "\n",
        "class CustomCallback(keras.callbacks.Callback):\n",
        "    \n",
        "    def __init__(self, **kwargs):\n",
        "        self.learning_rate = 0.1\n",
        "        self.train_losses = []\n",
        "        self.val_losses = []\n",
        "        self.best_perp = np.iinfo(np.int32).max\n",
        "        self.step_count = 0\n",
        "        super(CustomCallback, self).__init__(**kwargs)\n",
        "    \n",
        "    def on_epoch_begin(self, epoch, logs=None):\n",
        "        print(datetime.now().strftime(\"\\n%d/%m/%Y %H:%M:%S\"))\n",
        "        self.model.optimizer.learning_rate.assign(self.learning_rate)\n",
        "        print('lr =', self.model.optimizer.learning_rate.numpy(), 'optimizer =', self.model.optimizer)\n",
        "        \n",
        "    def on_epoch_end(self, epoch, logs=None):\n",
        "        mean_loss_train = np.mean(self.train_losses)\n",
        "        mean_perp_train = np.mean(list(map(lambda x: np.power(np.e,x), self.train_losses)))\n",
        "        print(\"Mean train loss:\", mean_loss_train,\",Mean train perplexity:\", mean_perp_train)\n",
        "        mean_loss_val = np.mean(self.val_losses)\n",
        "        mean_perp_val = np.mean(list(map(lambda x: np.power(np.e,x), self.val_losses)))\n",
        "        mean_perp_val = np.round(mean_perp_val, 2)\n",
        "        print(\"Mean val loss:\", mean_loss_val,\",Mean val perplexity:\", mean_perp_val)\n",
        "        if mean_perp_val < self.best_perp:\n",
        "            self.best_perp = mean_perp_val\n",
        "        else:\n",
        "            self.learning_rate = self.model.optimizer.learning_rate.numpy() / 2\n",
        "            print(\"learning rate reduced to\", self.learning_rate)\n",
        "        print(\"Best perplexity:\", self.best_perp)\n",
        "        self.train_losses = []\n",
        "        self.val_losses = []\n",
        "        \n",
        "    def on_train_batch_end(self, batch, logs=None):\n",
        "        self.train_losses.append(logs['loss'])\n",
        "        self.step_count += 1\n",
        "        \n",
        "    def on_test_batch_end(self, batch, logs=None):\n",
        "        self.val_losses.append(logs['loss'])\n",
        "\n",
        "\n",
        "custom_callback = CustomCallback()"
      ]
    },
    {
      "cell_type": "code",
      "execution_count": null,
      "metadata": {
        "id": "csuRqh_w4Pdw"
      },
      "outputs": [],
      "source": [
        "# On restarting\n",
        "# 1. Check learning rate\n",
        "# 2. Check initial epoch and epochs\n",
        "# 3. Update best perplexity\n",
        "# 4. Check loading recent checkpoint file\n",
        "\n",
        "initial_epoch = 0"
      ]
    },
    {
      "cell_type": "code",
      "execution_count": null,
      "metadata": {
        "id": "Dt0MR6mH4Pdw"
      },
      "outputs": [],
      "source": [
        "epochs = 15\n",
        "im2latex_model.fit(train_dataset, steps_per_epoch=None, # steps_per_epoch=None -> till dataset is exhausted\n",
        "                          epochs=initial_epoch+epochs, initial_epoch=initial_epoch,\n",
        "                          validation_data=val_dataset, validation_steps=None, # validation_steps=None -> till dataset is exhausted\n",
        "                          callbacks=[custom_callback, cp_callback, tbcallback])\n",
        "initial_epoch = initial_epoch+epochs"
      ]
    }
  ],
  "metadata": {
    "accelerator": "GPU",
    "colab": {
      "collapsed_sections": [],
      "machine_shape": "hm",
      "name": "im2latex_train_v2_20220620.ipynb",
      "provenance": []
    },
    "kernelspec": {
      "display_name": "Python 3",
      "language": "python",
      "name": "python3"
    },
    "language_info": {
      "codemirror_mode": {
        "name": "ipython",
        "version": 3
      },
      "file_extension": ".py",
      "mimetype": "text/x-python",
      "name": "python",
      "nbconvert_exporter": "python",
      "pygments_lexer": "ipython3",
      "version": "3.8.8"
    }
  },
  "nbformat": 4,
  "nbformat_minor": 0
}