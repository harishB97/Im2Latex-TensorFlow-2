{
  "cells": [
    {
      "cell_type": "code",
      "execution_count": null,
      "metadata": {
        "colab": {
          "base_uri": "https://localhost:8080/"
        },
        "id": "vxwaaMw5qeYa",
        "outputId": "c4a2da76-f2cc-43db-d2f3-7ecf31edf985"
      },
      "outputs": [
        {
          "output_type": "stream",
          "name": "stdout",
          "text": [
            "2.8.2\n",
            "2.8.0\n",
            "1.21.6\n"
          ]
        },
        {
          "output_type": "execute_result",
          "data": {
            "text/plain": [
              "True"
            ]
          },
          "metadata": {},
          "execution_count": 23
        }
      ],
      "source": [
        "import tensorflow as tf\n",
        "import tensorflow.keras as keras\n",
        "import numpy as np\n",
        "import os\n",
        "from datetime import datetime\n",
        "from im2latex import build_inference_model, build_training_model\n",
        "from data_loader import get_dataset\n",
        "from nltk.translate.bleu_score import corpus_bleu\n",
        "from tqdm import tqdm\n",
        "from IPython.display import display, Math, Latex, Image\n",
        "import cv2\n",
        "\n",
        "print(tf.__version__) # 2.8.0\n",
        "print(tf.keras.__version__) # 2.8.0\n",
        "print(np.__version__) # 1.21.6\n",
        "tf.executing_eagerly() # True\n"
      ]
    },
    {
      "cell_type": "code",
      "source": [
        "try:\n",
        "  from google.colab.patches import cv2_imshow\n",
        "  IN_COLAB = True\n",
        "except:\n",
        "  IN_COLAB = False"
      ],
      "metadata": {
        "id": "ewEuogUJg-VB"
      },
      "execution_count": null,
      "outputs": []
    },
    {
      "cell_type": "markdown",
      "source": [
        "# Load model"
      ],
      "metadata": {
        "id": "q5Bc_dKKPB8k"
      }
    },
    {
      "cell_type": "code",
      "source": [
        "# saved_model = None\n",
        "saved_model = r'./checkpoints/cp-0020.ckpt'\n",
        "im2latex_encoder, im2latex_decoder = build_inference_model(saved_model)"
      ],
      "metadata": {
        "id": "U8PdbCzOOnYr",
        "colab": {
          "base_uri": "https://localhost:8080/"
        },
        "outputId": "ffde3cf8-faed-49d0-a9a1-bc7ad2cf8932"
      },
      "execution_count": null,
      "outputs": [
        {
          "output_type": "stream",
          "name": "stdout",
          "text": [
            "Model loaded from /content/drive/MyDrive/im2markup/model_checkpoints_15/cp-0020.ckpt\n"
          ]
        }
      ]
    },
    {
      "cell_type": "markdown",
      "source": [
        "# Read test data from npy"
      ],
      "metadata": {
        "id": "whSTnE7-tCyx"
      }
    },
    {
      "cell_type": "code",
      "source": [
        "test_images = ['1a6e6aed62.jpg', '1a6a769c1f.jpg', '1a6fe45c04.jpg', '1a0b667b59.jpg', '1a7ff7a2f9.jpg']"
      ],
      "metadata": {
        "id": "60vqwxSj-qxd"
      },
      "execution_count": null,
      "outputs": []
    },
    {
      "cell_type": "code",
      "source": [
        "npy_path = r'./datasets/test_buckets.npy'\n",
        "image_path=r'./images'\n",
        "test_data = {}\n",
        "data_dict = np.load(npy_path, allow_pickle=True).tolist()\n",
        "for keys in data_dict.keys():\n",
        "    data_list = data_dict[keys]\n",
        "    for x, y in data_list:\n",
        "        x = x[:-4] + '.jpg'\n",
        "        img = cv2.imread(os.path.join(image_path, x), 0)\n",
        "        img = np.expand_dims(img.astype(np.float32), axis=0)\n",
        "        img = np.expand_dims(img, axis=-1)\n",
        "        seq = np.array(y).astype(np.float32)\n",
        "        test_data[x] = (img, seq[:-1])"
      ],
      "metadata": {
        "id": "ss7INDsFtNCJ"
      },
      "execution_count": null,
      "outputs": []
    },
    {
      "cell_type": "code",
      "source": [
        "max_seq_len = 150\n",
        "preds = []\n",
        "truth = []\n",
        "imgs = []\n",
        "for bn, img_name in enumerate(test_images):\n",
        "  sample = test_data[img_name]\n",
        "  img = sample[0]\n",
        "  latex_actual = sample[1]\n",
        "  encoder_out = im2latex_encoder.predict(img)\n",
        "  \n",
        "  token = 500\n",
        "  latex_pred = []\n",
        "  decoder_state  = np.zeros([1, 1024])\n",
        "  while token != 501 and len(latex_pred) <= max_seq_len:\n",
        "    latex_pred.append(token)\n",
        "    pred, decoder_state = im2latex_decoder.predict([np.array([latex_pred[-1:]]), \n",
        "                                                    encoder_out,\n",
        "                                                    decoder_state])\n",
        "    token = np.argmax(pred[0, -1], axis=-1)\n",
        "\n",
        "  imgs.append(img)\n",
        "  preds.append(latex_pred)\n",
        "  truth.append(latex_actual.astype(np.int).tolist())"
      ],
      "metadata": {
        "id": "wrzm2fETtH4y"
      },
      "execution_count": null,
      "outputs": []
    },
    {
      "cell_type": "markdown",
      "source": [
        "### Note:\n",
        "\n",
        "*   501 => END OF SEQUENCE\n",
        "*   500 => START OF SEQUENCE\n",
        "*   499 => UNKNOWN\n",
        "*   0   => null (for padding purpose)\n",
        "\n"
      ],
      "metadata": {
        "id": "5r4PhEnj5LoU"
      }
    },
    {
      "cell_type": "code",
      "source": [
        "vocab_dict = np.load(r'./datasets/properties.npy', allow_pickle=True)\n",
        "vocab_dict = vocab_dict.tolist()\n",
        "vocab_map = lambda x: vocab_dict['idx_to_char'][x]\n",
        "render_latex = lambda x: display(Math(x))\n",
        "\n",
        "from IPython.display import Image\n",
        "\n",
        "for img_name, img, actual, pred in zip(test_images, imgs, truth, preds):\n",
        "  print('Input image and actual latex seq:')\n",
        "  if IN_COLAB:\n",
        "    cv2_imshow(img[0])\n",
        "  else:\n",
        "    Image(filename=os.path.join(image_path, img_name)) \n",
        "  actual = \" \".join(list(map(vocab_map, actual))).split('#END')[0].split('#START')[1]\n",
        "  print(actual, '\\n')\n",
        "\n",
        "  print('Rendered image and predicted latex seq:')\n",
        "  pred = \" \".join(list(map(vocab_map, pred))).split('#END')[0].split('#START')[1]\n",
        "  render_latex(pred)\n",
        "  print(pred, '\\n\\n')"
      ],
      "metadata": {
        "colab": {
          "base_uri": "https://localhost:8080/",
          "height": 917
        },
        "id": "t5oVuPAnu6r0",
        "outputId": "ffd30852-5559-497b-a87c-55da36127560"
      },
      "execution_count": null,
      "outputs": [
        {
          "output_type": "stream",
          "name": "stdout",
          "text": [
            "Input image and actual latex seq:\n"
          ]
        },
        {
          "output_type": "display_data",
          "data": {
            "text/plain": [
              "<PIL.Image.Image image mode=RGB size=132x32 at 0x7F14FD65C5D0>"
            ],
            "image/png": "[encoded data removed]"
          },
          "metadata": {}
        },
        {
          "output_type": "stream",
          "name": "stdout",
          "text": [
            " \\check { \\Lambda } ( a ) = { ( a , a ) _ { \\c H } } \\Lambda _ { a } . \n",
            "\n",
            "Rendered image and predicted latex seq:\n"
          ]
        },
        {
          "output_type": "display_data",
          "data": {
            "text/plain": [
              "<IPython.core.display.Math object>"
            ],
            "text/latex": "$$ \\tilde { \\Lambda } ( a ) = ( a , a ) _ { { H } } \\Lambda _ { a } .$$"
          },
          "metadata": {}
        },
        {
          "output_type": "stream",
          "name": "stdout",
          "text": [
            " \\tilde { \\Lambda } ( a ) = ( a , a ) _ { { H } } \\Lambda _ { a } . \n",
            "\n",
            "\n",
            "Input image and actual latex seq:\n"
          ]
        },
        {
          "output_type": "display_data",
          "data": {
            "text/plain": [
              "<PIL.Image.Image image mode=RGB size=120x25 at 0x7F14FD65C450>"
            ],
            "image/png": "[encoded data removed]"
          },
          "metadata": {}
        },
        {
          "output_type": "stream",
          "name": "stdout",
          "text": [
            " \\lbrack x ^ { \\mu } , x ^ { \\nu } ] _ { * } = i \\Theta ^ { \\mu \\nu } . \n",
            "\n",
            "Rendered image and predicted latex seq:\n"
          ]
        },
        {
          "output_type": "display_data",
          "data": {
            "text/plain": [
              "<IPython.core.display.Math object>"
            ],
            "text/latex": "$$ [ x ^ { \\mu } , x ^ { \\nu } ] _ { * } = i \\Theta ^ { \\mu \\nu } .$$"
          },
          "metadata": {}
        },
        {
          "output_type": "stream",
          "name": "stdout",
          "text": [
            " [ x ^ { \\mu } , x ^ { \\nu } ] _ { * } = i \\Theta ^ { \\mu \\nu } . \n",
            "\n",
            "\n",
            "Input image and actual latex seq:\n"
          ]
        },
        {
          "output_type": "display_data",
          "data": {
            "text/plain": [
              "<PIL.Image.Image image mode=RGB size=123x50 at 0x7F14FD65C610>"
            ],
            "image/png": "[encoded data removed]"
          },
          "metadata": {}
        },
        {
          "output_type": "stream",
          "name": "stdout",
          "text": [
            " F = \\sum _ { g = 0 } ^ { \\infty } \\lambda ^ { 2 g - 2 } F _ { g } , \n",
            "\n",
            "Rendered image and predicted latex seq:\n"
          ]
        },
        {
          "output_type": "display_data",
          "data": {
            "text/plain": [
              "<IPython.core.display.Math object>"
            ],
            "text/latex": "$$ F = \\sum _ { g = 0 } ^ { \\infty } \\lambda ^ { 2 g - 2 } F _ { g } ,$$"
          },
          "metadata": {}
        },
        {
          "output_type": "stream",
          "name": "stdout",
          "text": [
            " F = \\sum _ { g = 0 } ^ { \\infty } \\lambda ^ { 2 g - 2 } F _ { g } , \n",
            "\n",
            "\n",
            "Input image and actual latex seq:\n"
          ]
        },
        {
          "output_type": "display_data",
          "data": {
            "text/plain": [
              "<PIL.Image.Image image mode=RGB size=148x25 at 0x7F14FD65CCD0>"
            ],
            "image/png": "[encoded data removed]"
          },
          "metadata": {}
        },
        {
          "output_type": "stream",
          "name": "stdout",
          "text": [
            " \\Psi = \\operatorname { e x p } \\left( i l \\varphi \\right) R \\left( \\rho \\right) . \n",
            "\n",
            "Rendered image and predicted latex seq:\n"
          ]
        },
        {
          "output_type": "display_data",
          "data": {
            "text/plain": [
              "<IPython.core.display.Math object>"
            ],
            "text/latex": "$$ \\Psi = \\operatorname { e x p } \\left( i l \\varphi \\right) R \\left( \\rho \\right) .$$"
          },
          "metadata": {}
        },
        {
          "output_type": "stream",
          "name": "stdout",
          "text": [
            " \\Psi = \\operatorname { e x p } \\left( i l \\varphi \\right) R \\left( \\rho \\right) . \n",
            "\n",
            "\n",
            "Input image and actual latex seq:\n"
          ]
        },
        {
          "output_type": "display_data",
          "data": {
            "text/plain": [
              "<PIL.Image.Image image mode=RGB size=106x47 at 0x7F14FD65C490>"
            ],
            "image/png": "[encoded data removed]"
          },
          "metadata": {}
        },
        {
          "output_type": "stream",
          "name": "stdout",
          "text": [
            " D ^ { 2 } \\varphi = \\frac { \\delta V ( \\varphi ) } { \\delta \\varphi } \n",
            "\n",
            "Rendered image and predicted latex seq:\n"
          ]
        },
        {
          "output_type": "display_data",
          "data": {
            "text/plain": [
              "<IPython.core.display.Math object>"
            ],
            "text/latex": "$$ D ^ { 2 } \\varphi = \\frac { \\delta V ( \\varphi ) } { \\delta \\varphi }$$"
          },
          "metadata": {}
        },
        {
          "output_type": "stream",
          "name": "stdout",
          "text": [
            " D ^ { 2 } \\varphi = \\frac { \\delta V ( \\varphi ) } { \\delta \\varphi } \n",
            "\n",
            "\n"
          ]
        }
      ]
    },
    {
      "cell_type": "markdown",
      "source": [
        "# BLEU score calculation"
      ],
      "metadata": {
        "id": "d6MQEwiE_MJe"
      }
    },
    {
      "cell_type": "code",
      "source": [
        "batch_size = 20\n",
        "# validation\n",
        "# dataset = get_dataset(npy_path=r'./datasets/valid_buckets.npy',\n",
        "#                         image_path=r'./images',\n",
        "#                         batch_size=batch_size)\n",
        "# test\n",
        "dataset = get_dataset(npy_path=r'./datasets/test_buckets.npy',\n",
        "                        image_path=r'./images',\n",
        "                        batch_size=batch_size)"
      ],
      "metadata": {
        "id": "iROEvYFV1VPx"
      },
      "execution_count": null,
      "outputs": []
    },
    {
      "cell_type": "code",
      "source": [
        "all_preds = []\n",
        "all_refs = []\n",
        "max_seq_len = 200\n",
        "\n",
        "# for bn, batch in tqdm(enumerate(test_dataset)):\n",
        "for bn, batch in tqdm(enumerate(dataset)):\n",
        "  img = batch[0][0]\n",
        "  latex_actual = batch[0][1]\n",
        "  encoder_out = im2latex_encoder.predict(img)\n",
        "  latex_pred = np.ones(shape=[batch_size, 1]) * 500\n",
        "  decoder_state  = np.zeros([batch_size, 1024])\n",
        "  eos = False # end of sequence\n",
        "  while (not eos) and latex_pred.shape[-1] <= max_seq_len:\n",
        "    pred, decoder_state = im2latex_decoder.predict([latex_pred[:, -1:], \n",
        "                                                    encoder_out, \n",
        "                                                    decoder_state])\n",
        "    tokens = np.argmax(pred[:, -1:], axis=-1)\n",
        "    latex_pred = np.hstack((latex_pred, tokens))\n",
        "    \n",
        "    # check if eos(501) is in each row of latex_pred\n",
        "    eos = (np.full([batch_size, 1], 501) == latex_pred).any(1).all()\n",
        "  all_preds.append(latex_pred)\n",
        "  all_refs.append(latex_actual)"
      ],
      "metadata": {
        "id": "2jpIGPWb98AS",
        "colab": {
          "base_uri": "https://localhost:8080/"
        },
        "outputId": "17ee7a9a-c085-43a4-d043-cb1aa9845172"
      },
      "execution_count": null,
      "outputs": [
        {
          "output_type": "stream",
          "name": "stderr",
          "text": [
            "419it [48:50,  6.99s/it]\n"
          ]
        }
      ]
    },
    {
      "cell_type": "code",
      "source": [
        "preds_list = []\n",
        "refs_list = []\n",
        "for pred, ref in zip(all_preds, all_refs):\n",
        "  for i in range(pred.shape[0]):\n",
        "    end = np.where(pred[i] == 501)[0]\n",
        "    end = end[0] if (end.size != 0) else None\n",
        "    preds_list.append([pred[i][:end].astype(np.int32).tolist()])\n",
        "\n",
        "    end = np.where(ref[i] == 0)[0]\n",
        "    end = end[0] if (end.size != 0) else None\n",
        "    refs_list.append(ref[i][:end].numpy().astype(np.int32).tolist())"
      ],
      "metadata": {
        "id": "P_Na9mHUR-Io"
      },
      "execution_count": null,
      "outputs": []
    },
    {
      "cell_type": "code",
      "source": [
        "# validation dataset - 10340 images\n",
        "print('BLEU score {:.2f}%'.format(corpus_bleu(preds_list, refs_list) * 100))"
      ],
      "metadata": {
        "colab": {
          "base_uri": "https://localhost:8080/"
        },
        "id": "uAOcrA2f2nAi",
        "outputId": "12fca1af-dc8b-41aa-db7a-b9aab01c62ec"
      },
      "execution_count": null,
      "outputs": [
        {
          "output_type": "stream",
          "name": "stdout",
          "text": [
            "BLEU score 84.44%\n"
          ]
        }
      ]
    },
    {
      "cell_type": "code",
      "source": [
        "# test dataset - 9340 images\n",
        "print('BLEU score {:.2f}%'.format(corpus_bleu(preds_list, refs_list) * 100))"
      ],
      "metadata": {
        "colab": {
          "base_uri": "https://localhost:8080/"
        },
        "id": "DbwDFplLZGs9",
        "outputId": "9dda7752-90cf-4abf-893b-a79662b21639"
      },
      "execution_count": null,
      "outputs": [
        {
          "output_type": "stream",
          "name": "stdout",
          "text": [
            "BLEU score 84.30%\n"
          ]
        }
      ]
    }
  ],
  "metadata": {
    "colab": {
      "collapsed_sections": [],
      "name": "im2latex_test_v4_20220620.ipynb",
      "provenance": [],
      "machine_shape": "hm"
    },
    "kernelspec": {
      "display_name": "Python 3",
      "language": "python",
      "name": "python3"
    },
    "language_info": {
      "codemirror_mode": {
        "name": "ipython",
        "version": 3
      },
      "file_extension": ".py",
      "mimetype": "text/x-python",
      "name": "python",
      "nbconvert_exporter": "python",
      "pygments_lexer": "ipython3",
      "version": "3.8.8"
    },
    "accelerator": "GPU"
  },
  "nbformat": 4,
  "nbformat_minor": 0
}